{
 "cells": [
  {
   "cell_type": "markdown",
   "metadata": {},
   "source": [
    "# Final Project: Melanie Tzintzarova & Quincey Nielson\n",
    "##### Topic: Deformation of the solid Earth under a load (Lingle & Clark, 1985)"
   ]
  },
  {
   "cell_type": "markdown",
   "metadata": {},
   "source": [
    "### Equations\n",
    "\n",
    "##### Net rate of thickening on the central flow line:\n",
    "\n",
    "∂Hg/∂t = Ag - Vg * ∂Hg/∂x + Hg * εzz\n",
    "\n",
    "##### Vertical strain:\n",
    "\n",
    "εzz = -(1/(2B))^3 * [(ρi*g*Hg)/2 * (1 - ρi/ρw) - (3τs*L)/(2wg)]^3\n",
    "\n",
    "#### Rate of retreat of the grounding line:\n",
    "\n",
    "∂xg/∂t = ∂Hg/∂t * [1/((1-ρw/ρi)*β-α))]"
   ]
  },
  {
   "cell_type": "code",
   "execution_count": null,
   "metadata": {},
   "outputs": [],
   "source": []
  },
  {
   "cell_type": "markdown",
   "metadata": {},
   "source": [
    "### 1) Import Packages"
   ]
  },
  {
   "cell_type": "code",
   "execution_count": 1,
   "metadata": {},
   "outputs": [],
   "source": [
    "# import necessary packages\n",
    "import numpy as numpy\n",
    "import matplotlib.pyplot as pyplot\n",
    "import scipy"
   ]
  },
  {
   "cell_type": "markdown",
   "metadata": {},
   "source": [
    "### 2) Set parameters"
   ]
  },
  {
   "cell_type": "code",
   "execution_count": null,
   "metadata": {},
   "outputs": [],
   "source": [
    "Vg = # ice velocity [m/s]\n",
    "Ag = # HELP I CAN'T FIND WHAT THIS IS\n",
    "B = # hardness parameter in the flow law of ice\n",
    "tau = # effective stress\n",
    "g = 9.81 # acceleration due to gravity [m/s^2]\n",
    "ro_i = # density of ice\n",
    "ro_w = # density of water\n",
    "alpha = # slope of the ice stream\n",
    "beta = # slope of the sea floor"
   ]
  },
  {
   "cell_type": "markdown",
   "metadata": {},
   "source": []
  }
 ],
 "metadata": {
  "kernelspec": {
   "display_name": "EAS4821",
   "language": "python",
   "name": "eas4821"
  },
  "language_info": {
   "codemirror_mode": {
    "name": "ipython",
    "version": 3
   },
   "file_extension": ".py",
   "mimetype": "text/x-python",
   "name": "python",
   "nbconvert_exporter": "python",
   "pygments_lexer": "ipython3",
   "version": "3.11.7"
  }
 },
 "nbformat": 4,
 "nbformat_minor": 2
}
