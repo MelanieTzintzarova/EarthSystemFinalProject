{
  "cells": [
    {
      "cell_type": "markdown",
      "metadata": {
        "id": "Zy9b3L1FUs-B"
      },
      "source": [
        "# Final Project: Melanie Tzintzarova & Quincey Nielson\n",
        "#### Topic: Deformation of the solid Earth under a load (Lingle & Clark, 1985)"
      ]
    },
    {
      "cell_type": "markdown",
      "source": [
        "# Introduction\n",
        "Our project is based on the paper by Lingle & Clarke, which outlines Earth's response to ice melting and rising sea levels in the West Antarctic Ice Stream. The elastic response is the immediate, short-term deformation of Earth under the ice load. The viscous response is the slower, more long-term effects and adjustments due to the load. This paper is important to understand the feedback mechanisms between ice sheets and the solid Earth, which is increasingly relevant in a time where ice is melting at unprecedented rates.\n",
        "\n",
        "In Lingle & Clark (1985), they model the net rate of thickening on the ice sheet's central flow line, which can then be used to model the rate of retreat of the grounding line. They then uses these thickness values to observe the rate of retreat for three different scenarios: rigid Earth, elastic Earth, and viscoelastic Earth. This differs from our project, which will focus on the net rate of thickening alone, which is dependent on the vertical strain rate.\n",
        "\n",
        "A more advanced model is seen in Whitehouse et al. (2019), where they include more interactions that effect isostatic subsidence, including ice-sheet thickening and advance, subglagial volcanism, basal heat flux, and erosion and deposition of material offshore. Paxman et al. (2022) take a different approach, using compilations of ice thickness and the effective elastic thickness of the lithosphere to calculate the total isostatic response of the solid Earth were the Greenland and Antarctic Ice Sheets completely removed.\n",
        "\n",
        "For our project, we plan to model the net rate of thickening on the ice sheet's central flow line in four scenarios: no ice shelf, ice shelf with effective stress of 0.065 N/m^2, ice shelf with effective stress of 0.065 N/m^2, and a future simulation for thickening from present time to 16,000 years in the future."
      ],
      "metadata": {
        "id": "eYJZ_9rLhBbd"
      }
    },
    {
      "cell_type": "markdown",
      "metadata": {
        "id": "wfGrooKtUs-D"
      },
      "source": [
        "# Equations\n",
        "\n",
        "The fundamental physical process behind our model is the thickening of the glacier on the central flow line of the ice sheet. This is controlled by the rate of accumulation or ablation (which is the increase or decrease of the size of the glacier due to deposition of snow and erosion of the glacier), the rate of advection of thicker ice from up-glacier, and the rate of creep thinning (caused by the ice shelf spreading). This relationship ship is shown in the equation:\n",
        "\n",
        "####∂Hg/∂t = Ag - Vg * ∂Hg/∂x + Hg * εzz (1)\n",
        "\n",
        "where Hg is the rate of thickening of the glacier, Ag is the rate of accumulation & ablation, Vg is the ice velocity, and εzz is the vertical strain rate. The subscript g means the position of the grounding line, and x is the horizonta distance from the ice divide to the central flow line. This equation is derived from basal sliding equations.\n",
        "\n",
        "The vertical strain rate term seen in (1) is found using the forward driving stress causing the ice shelf to spread and the stress-reduction term/back stress acting on the sides of the ice shelf. This is shown with the equation:\n",
        "\n",
        "####εzz = -(1/(2B))^3 * [(ρi*g*Hg)/2 * (1 - ρi/ρw) - (3τs*L)/(2wg)]^3  (2)\n",
        "\n",
        "where B is the hardness parameter in the flow law of ice, ρi is the density of ice, ρw is the density of water, g is the acceleration due to gravity, τs is the effective stress, L is the length of the ice shelf, and wg is the width of the glacier. This equation is derived by ice sheet dynamic equations, assuming that the ice shelf is only able to spread in one direction because of lateral confinement.\n",
        "\n",
        "Though this is outside the scope of our project, the rate of retreat of the grounding line can be found using the results of our model, with the equation:\n",
        "#### ∂xg/∂t = ∂Hg/∂t * [1/((1-ρw/ρi)*β-α))]  (3)\n",
        "\n",
        "where α and β are the angles between the ice stream and the glacier surface and grounding line respectively.\n",
        "\n",
        "\n",
        "![](https://drive.google.com/uc?export=view&id=1BE3zgY86adQWP5y2munUpuJi-fZRvUtK)\n",
        "\n",
        "For our parameters, ice velocity can vary from 100-1000 m/yr, so we set Vg to 400 m/yr. We set the rate of accumulation/ablation Ag to 1 m/yr, ice density ρi to 917 kg/m^3, water density ρw to 1000 kg/m^3, and hardness parameter B to <INSERT HERE>.\n",
        "\n",
        "For our initial condition, we set Hg to be uniform at 1000 m at all locations along the grounding line. We make the simplification that the glacier has a uniform width, wg, and set that to 800 km which matches roughly the width of the Ross Ice Sheet in Antarctica. We chose to use a Dirichlet boundary, and set Hg to 0 at those locations because the ice sheet is constricted by rock on both sides in this model.\n",
        "\n",
        "Our variables are length of the ice shelf, L, and effective stress, τs. For our model, we chose to use a no ice shelf scenario (L = 0), simulating a marine-terminating glacier, and a 600 km ice shelf scenario (L = 600e3). We then used the ice shelf scenario and varied τs for effective stresses of 0.062 N/m^2 (which was the value used by Lingle & Clark 1985) and 0.065 N/m^2 (which Lingle & Clark suggested may be a more accurate value to use). Finally, we used our code to simulate a continuation of thickening rate 16,000 years in the future.\n",
        "\n",
        "[INFO ON TIME STEPS AND DX GOES HERE]"
      ]
    },
    {
      "cell_type": "markdown",
      "source": [
        "# Numerical Methods\n",
        "\n",
        "We chose to use the Forward Euler method for our model, because this was the easiest model to try and we wanted to have time to focus on getting results that made physical sense, which we worried would require changing our initial conditions and parameters because they were not well-defined in the original paper, taking up more time.\n",
        "\n",
        "We chose to use the Dirichlet Boundary Conditions over the Neumann Boundary Conditions, because Dirichlet allows us to explicitly set our boundary variables, whereas the Neumann Method would have us set the derivative of the boundary variable. Originally, we had set the boundaries to 0, thinking this was the correct way to implement the {!!!!FINISH AFTER DINNER!!!}We set the left and right boundary equal to one so that when matrix multiplication is done, we would have the proper initial conditions set to show in our plots.\n",
        "\n",
        "Our model can be run using the cells below:"
      ],
      "metadata": {
        "id": "1uh8ZBrbzCD2"
      }
    },
    {
      "cell_type": "markdown",
      "metadata": {
        "id": "BMw6PJDzUs-F"
      },
      "source": [
        "### 1) Import Packages"
      ]
    },
    {
      "cell_type": "code",
      "execution_count": null,
      "metadata": {
        "id": "CUBSUMjTUs-F"
      },
      "outputs": [],
      "source": [
        "import numpy as np\n",
        "import matplotlib.pyplot as plt\n",
        "from scipy.sparse import spdiags"
      ]
    },
    {
      "cell_type": "markdown",
      "metadata": {
        "id": "3OTjut4GUs-G"
      },
      "source": [
        "### 2) Set parameters"
      ]
    },
    {
      "cell_type": "code",
      "execution_count": null,
      "metadata": {
        "id": "8W6UWDEaUs-G",
        "colab": {
          "base_uri": "https://localhost:8080/"
        },
        "outputId": "d715586f-1e91-4856-8e31-ce4db250e8c6"
      },
      "outputs": [
        {
          "output_type": "stream",
          "name": "stdout",
          "text": [
            "1000.0\n",
            "2.2\n",
            "0.8800000000000001\n"
          ]
        }
      ],
      "source": [
        "# EQUATION (1) CONSTANTS\n",
        "Vg = 400 # ice velocity [m/yr] can be between 100-800 m/years\n",
        "Ag = 0.1 # rate of accumulation/ablation [m/year]\n",
        "Hg = 1000\n",
        "\n",
        "# EQUATION (2) CONSTANTS\n",
        "B = 120e3 # hardness parameter in the flow law of ice [N/m*s^2]\n",
        "ro_i = 917 # density of ice [kg/m^3]\n",
        "ro_w = 1000 # density of water [kg/m^3]\n",
        "g = 9.81 # acceleration due to gravity [m/s^2]\n",
        "wg = 800e3 # m\n",
        "\n",
        "# VARIABLES\n",
        "L1 = 0 # no ice shelf [m]\n",
        "L2 = 600e3 # ice shelf [m]\n",
        "tau1 = 65000 # effective stress [N/m^2]\n",
        "tau2 = 62000 # effective stress [N/m^2]\n",
        "\n",
        "# L2 = 10000\n",
        "\n",
        "# SET X AND T VALUES\n",
        "xi = 0 #initial distance\n",
        "xf = 1000e3 # m\n",
        "nx = 1000\n",
        "dx = xf/nx\n",
        "print(dx)\n",
        "\n",
        "ti = -2200 # years\n",
        "tf = 0 # years\n",
        "nt = 1000\n",
        "dt = -ti/nt # decrease dt\n",
        "print(dt)\n",
        "\n",
        "# CALCULATE COURANT NUMBER\n",
        "Cr = (Vg*dt)/(dx)\n",
        "print(Cr)"
      ]
    },
    {
      "cell_type": "markdown",
      "metadata": {
        "id": "Bki-STucUs-H"
      },
      "source": [
        "### 3) Pre-allocate vectors"
      ]
    },
    {
      "cell_type": "code",
      "source": [
        "# CREATE HG AND T VECTORS\n",
        "#xg_all = np.zeros([nx])\n",
        "\n",
        "Hg_all = np.zeros([nx, nt])\n",
        "times = np.arange(ti, tf, dt)\n",
        "Ag_vec = np.ones(nx)*Ag\n",
        "Ag_vec = Ag_vec.transpose()\n",
        "Ag_vec[0] = 0\n",
        "Ag_vec[-1] = 0\n",
        "\n",
        "\n",
        "# CREATE INITIAL CONDITION\n",
        "hi = 2.3e3 # thickness at top of glacier [m]\n",
        "hf = 2e3 # thickness of Ross Ice Shelf (end of glacier) [m]\n",
        "dh = (hi-hf)/nx\n",
        "Hg_initial = []\n",
        "h_count = hi\n",
        "for i in Hg_all[:,0]:\n",
        "  h_count -= dh\n",
        "  Hg_initial += [h_count]\n",
        "\n",
        "Hg_initial = np.array(Hg_initial)\n",
        "Hg_all[:,0] = Hg_initial\n",
        "Hg = Hg_all[:,0]\n",
        "Ag_vec"
      ],
      "metadata": {
        "id": "8WS6lK84XIk_",
        "colab": {
          "base_uri": "https://localhost:8080/"
        },
        "outputId": "02da089d-12dc-4904-851d-f14c043b9fc2"
      },
      "execution_count": null,
      "outputs": [
        {
          "output_type": "execute_result",
          "data": {
            "text/plain": [
              "array([0. , 0.1, 0.1, 0.1, 0.1, 0.1, 0.1, 0.1, 0.1, 0.1, 0.1, 0.1, 0.1,\n",
              "       0.1, 0.1, 0.1, 0.1, 0.1, 0.1, 0.1, 0.1, 0.1, 0.1, 0.1, 0.1, 0.1,\n",
              "       0.1, 0.1, 0.1, 0.1, 0.1, 0.1, 0.1, 0.1, 0.1, 0.1, 0.1, 0.1, 0.1,\n",
              "       0.1, 0.1, 0.1, 0.1, 0.1, 0.1, 0.1, 0.1, 0.1, 0.1, 0.1, 0.1, 0.1,\n",
              "       0.1, 0.1, 0.1, 0.1, 0.1, 0.1, 0.1, 0.1, 0.1, 0.1, 0.1, 0.1, 0.1,\n",
              "       0.1, 0.1, 0.1, 0.1, 0.1, 0.1, 0.1, 0.1, 0.1, 0.1, 0.1, 0.1, 0.1,\n",
              "       0.1, 0.1, 0.1, 0.1, 0.1, 0.1, 0.1, 0.1, 0.1, 0.1, 0.1, 0.1, 0.1,\n",
              "       0.1, 0.1, 0.1, 0.1, 0.1, 0.1, 0.1, 0.1, 0.1, 0.1, 0.1, 0.1, 0.1,\n",
              "       0.1, 0.1, 0.1, 0.1, 0.1, 0.1, 0.1, 0.1, 0.1, 0.1, 0.1, 0.1, 0.1,\n",
              "       0.1, 0.1, 0.1, 0.1, 0.1, 0.1, 0.1, 0.1, 0.1, 0.1, 0.1, 0.1, 0.1,\n",
              "       0.1, 0.1, 0.1, 0.1, 0.1, 0.1, 0.1, 0.1, 0.1, 0.1, 0.1, 0.1, 0.1,\n",
              "       0.1, 0.1, 0.1, 0.1, 0.1, 0.1, 0.1, 0.1, 0.1, 0.1, 0.1, 0.1, 0.1,\n",
              "       0.1, 0.1, 0.1, 0.1, 0.1, 0.1, 0.1, 0.1, 0.1, 0.1, 0.1, 0.1, 0.1,\n",
              "       0.1, 0.1, 0.1, 0.1, 0.1, 0.1, 0.1, 0.1, 0.1, 0.1, 0.1, 0.1, 0.1,\n",
              "       0.1, 0.1, 0.1, 0.1, 0.1, 0.1, 0.1, 0.1, 0.1, 0.1, 0.1, 0.1, 0.1,\n",
              "       0.1, 0.1, 0.1, 0.1, 0.1, 0.1, 0.1, 0.1, 0.1, 0.1, 0.1, 0.1, 0.1,\n",
              "       0.1, 0.1, 0.1, 0.1, 0.1, 0.1, 0.1, 0.1, 0.1, 0.1, 0.1, 0.1, 0.1,\n",
              "       0.1, 0.1, 0.1, 0.1, 0.1, 0.1, 0.1, 0.1, 0.1, 0.1, 0.1, 0.1, 0.1,\n",
              "       0.1, 0.1, 0.1, 0.1, 0.1, 0.1, 0.1, 0.1, 0.1, 0.1, 0.1, 0.1, 0.1,\n",
              "       0.1, 0.1, 0.1, 0.1, 0.1, 0.1, 0.1, 0.1, 0.1, 0.1, 0.1, 0.1, 0.1,\n",
              "       0.1, 0.1, 0.1, 0.1, 0.1, 0.1, 0.1, 0.1, 0.1, 0.1, 0.1, 0.1, 0.1,\n",
              "       0.1, 0.1, 0.1, 0.1, 0.1, 0.1, 0.1, 0.1, 0.1, 0.1, 0.1, 0.1, 0.1,\n",
              "       0.1, 0.1, 0.1, 0.1, 0.1, 0.1, 0.1, 0.1, 0.1, 0.1, 0.1, 0.1, 0.1,\n",
              "       0.1, 0.1, 0.1, 0.1, 0.1, 0.1, 0.1, 0.1, 0.1, 0.1, 0.1, 0.1, 0.1,\n",
              "       0.1, 0.1, 0.1, 0.1, 0.1, 0.1, 0.1, 0.1, 0.1, 0.1, 0.1, 0.1, 0.1,\n",
              "       0.1, 0.1, 0.1, 0.1, 0.1, 0.1, 0.1, 0.1, 0.1, 0.1, 0.1, 0.1, 0.1,\n",
              "       0.1, 0.1, 0.1, 0.1, 0.1, 0.1, 0.1, 0.1, 0.1, 0.1, 0.1, 0.1, 0.1,\n",
              "       0.1, 0.1, 0.1, 0.1, 0.1, 0.1, 0.1, 0.1, 0.1, 0.1, 0.1, 0.1, 0.1,\n",
              "       0.1, 0.1, 0.1, 0.1, 0.1, 0.1, 0.1, 0.1, 0.1, 0.1, 0.1, 0.1, 0.1,\n",
              "       0.1, 0.1, 0.1, 0.1, 0.1, 0.1, 0.1, 0.1, 0.1, 0.1, 0.1, 0.1, 0.1,\n",
              "       0.1, 0.1, 0.1, 0.1, 0.1, 0.1, 0.1, 0.1, 0.1, 0.1, 0.1, 0.1, 0.1,\n",
              "       0.1, 0.1, 0.1, 0.1, 0.1, 0.1, 0.1, 0.1, 0.1, 0.1, 0.1, 0.1, 0.1,\n",
              "       0.1, 0.1, 0.1, 0.1, 0.1, 0.1, 0.1, 0.1, 0.1, 0.1, 0.1, 0.1, 0.1,\n",
              "       0.1, 0.1, 0.1, 0.1, 0.1, 0.1, 0.1, 0.1, 0.1, 0.1, 0.1, 0.1, 0.1,\n",
              "       0.1, 0.1, 0.1, 0.1, 0.1, 0.1, 0.1, 0.1, 0.1, 0.1, 0.1, 0.1, 0.1,\n",
              "       0.1, 0.1, 0.1, 0.1, 0.1, 0.1, 0.1, 0.1, 0.1, 0.1, 0.1, 0.1, 0.1,\n",
              "       0.1, 0.1, 0.1, 0.1, 0.1, 0.1, 0.1, 0.1, 0.1, 0.1, 0.1, 0.1, 0.1,\n",
              "       0.1, 0.1, 0.1, 0.1, 0.1, 0.1, 0.1, 0.1, 0.1, 0.1, 0.1, 0.1, 0.1,\n",
              "       0.1, 0.1, 0.1, 0.1, 0.1, 0.1, 0.1, 0.1, 0.1, 0.1, 0.1, 0.1, 0.1,\n",
              "       0.1, 0.1, 0.1, 0.1, 0.1, 0.1, 0.1, 0.1, 0.1, 0.1, 0.1, 0.1, 0.1,\n",
              "       0.1, 0.1, 0.1, 0.1, 0.1, 0.1, 0.1, 0.1, 0.1, 0.1, 0.1, 0.1, 0.1,\n",
              "       0.1, 0.1, 0.1, 0.1, 0.1, 0.1, 0.1, 0.1, 0.1, 0.1, 0.1, 0.1, 0.1,\n",
              "       0.1, 0.1, 0.1, 0.1, 0.1, 0.1, 0.1, 0.1, 0.1, 0.1, 0.1, 0.1, 0.1,\n",
              "       0.1, 0.1, 0.1, 0.1, 0.1, 0.1, 0.1, 0.1, 0.1, 0.1, 0.1, 0.1, 0.1,\n",
              "       0.1, 0.1, 0.1, 0.1, 0.1, 0.1, 0.1, 0.1, 0.1, 0.1, 0.1, 0.1, 0.1,\n",
              "       0.1, 0.1, 0.1, 0.1, 0.1, 0.1, 0.1, 0.1, 0.1, 0.1, 0.1, 0.1, 0.1,\n",
              "       0.1, 0.1, 0.1, 0.1, 0.1, 0.1, 0.1, 0.1, 0.1, 0.1, 0.1, 0.1, 0.1,\n",
              "       0.1, 0.1, 0.1, 0.1, 0.1, 0.1, 0.1, 0.1, 0.1, 0.1, 0.1, 0.1, 0.1,\n",
              "       0.1, 0.1, 0.1, 0.1, 0.1, 0.1, 0.1, 0.1, 0.1, 0.1, 0.1, 0.1, 0.1,\n",
              "       0.1, 0.1, 0.1, 0.1, 0.1, 0.1, 0.1, 0.1, 0.1, 0.1, 0.1, 0.1, 0.1,\n",
              "       0.1, 0.1, 0.1, 0.1, 0.1, 0.1, 0.1, 0.1, 0.1, 0.1, 0.1, 0.1, 0.1,\n",
              "       0.1, 0.1, 0.1, 0.1, 0.1, 0.1, 0.1, 0.1, 0.1, 0.1, 0.1, 0.1, 0.1,\n",
              "       0.1, 0.1, 0.1, 0.1, 0.1, 0.1, 0.1, 0.1, 0.1, 0.1, 0.1, 0.1, 0.1,\n",
              "       0.1, 0.1, 0.1, 0.1, 0.1, 0.1, 0.1, 0.1, 0.1, 0.1, 0.1, 0.1, 0.1,\n",
              "       0.1, 0.1, 0.1, 0.1, 0.1, 0.1, 0.1, 0.1, 0.1, 0.1, 0.1, 0.1, 0.1,\n",
              "       0.1, 0.1, 0.1, 0.1, 0.1, 0.1, 0.1, 0.1, 0.1, 0.1, 0.1, 0.1, 0.1,\n",
              "       0.1, 0.1, 0.1, 0.1, 0.1, 0.1, 0.1, 0.1, 0.1, 0.1, 0.1, 0.1, 0.1,\n",
              "       0.1, 0.1, 0.1, 0.1, 0.1, 0.1, 0.1, 0.1, 0.1, 0.1, 0.1, 0.1, 0.1,\n",
              "       0.1, 0.1, 0.1, 0.1, 0.1, 0.1, 0.1, 0.1, 0.1, 0.1, 0.1, 0.1, 0.1,\n",
              "       0.1, 0.1, 0.1, 0.1, 0.1, 0.1, 0.1, 0.1, 0.1, 0.1, 0.1, 0.1, 0.1,\n",
              "       0.1, 0.1, 0.1, 0.1, 0.1, 0.1, 0.1, 0.1, 0.1, 0.1, 0.1, 0.1, 0.1,\n",
              "       0.1, 0.1, 0.1, 0.1, 0.1, 0.1, 0.1, 0.1, 0.1, 0.1, 0.1, 0.1, 0.1,\n",
              "       0.1, 0.1, 0.1, 0.1, 0.1, 0.1, 0.1, 0.1, 0.1, 0.1, 0.1, 0.1, 0.1,\n",
              "       0.1, 0.1, 0.1, 0.1, 0.1, 0.1, 0.1, 0.1, 0.1, 0.1, 0.1, 0.1, 0.1,\n",
              "       0.1, 0.1, 0.1, 0.1, 0.1, 0.1, 0.1, 0.1, 0.1, 0.1, 0.1, 0.1, 0.1,\n",
              "       0.1, 0.1, 0.1, 0.1, 0.1, 0.1, 0.1, 0.1, 0.1, 0.1, 0.1, 0.1, 0.1,\n",
              "       0.1, 0.1, 0.1, 0.1, 0.1, 0.1, 0.1, 0.1, 0.1, 0.1, 0.1, 0.1, 0.1,\n",
              "       0.1, 0.1, 0.1, 0.1, 0.1, 0.1, 0.1, 0.1, 0.1, 0.1, 0.1, 0.1, 0.1,\n",
              "       0.1, 0.1, 0.1, 0.1, 0.1, 0.1, 0.1, 0.1, 0.1, 0.1, 0.1, 0.1, 0.1,\n",
              "       0.1, 0.1, 0.1, 0.1, 0.1, 0.1, 0.1, 0.1, 0.1, 0.1, 0.1, 0.1, 0.1,\n",
              "       0.1, 0.1, 0.1, 0.1, 0.1, 0.1, 0.1, 0.1, 0.1, 0.1, 0.1, 0.1, 0.1,\n",
              "       0.1, 0.1, 0.1, 0.1, 0.1, 0.1, 0.1, 0.1, 0.1, 0.1, 0.1, 0.1, 0.1,\n",
              "       0.1, 0.1, 0.1, 0.1, 0.1, 0.1, 0.1, 0.1, 0.1, 0.1, 0.1, 0.1, 0.1,\n",
              "       0.1, 0.1, 0.1, 0.1, 0.1, 0.1, 0.1, 0.1, 0.1, 0.1, 0.1, 0.1, 0.1,\n",
              "       0.1, 0.1, 0.1, 0.1, 0.1, 0.1, 0.1, 0.1, 0.1, 0.1, 0.1, 0.1, 0.1,\n",
              "       0.1, 0.1, 0.1, 0.1, 0.1, 0.1, 0.1, 0.1, 0.1, 0.1, 0.1, 0.1, 0.1,\n",
              "       0.1, 0.1, 0.1, 0.1, 0.1, 0.1, 0.1, 0.1, 0.1, 0.1, 0.1, 0. ])"
            ]
          },
          "metadata": {},
          "execution_count": 34
        }
      ]
    },
    {
      "cell_type": "markdown",
      "source": [
        "### 4) Create matrix"
      ],
      "metadata": {
        "id": "i1zsgJ8owbgi"
      }
    },
    {
      "cell_type": "code",
      "source": [
        "data = np.array([Cr*np.ones(nx), (1-Cr)*np.ones(nx)])\n",
        "diags = np.array([-1,0])\n",
        "M = spdiags(data, diags, nx, nx).toarray()\n",
        "M"
      ],
      "metadata": {
        "id": "TJxNE9z-wfTO",
        "colab": {
          "base_uri": "https://localhost:8080/"
        },
        "outputId": "dbdea0e6-7692-4811-d90a-8e3d88c5cbc5"
      },
      "execution_count": null,
      "outputs": [
        {
          "output_type": "execute_result",
          "data": {
            "text/plain": [
              "array([[0.12, 0.  , 0.  , ..., 0.  , 0.  , 0.  ],\n",
              "       [0.88, 0.12, 0.  , ..., 0.  , 0.  , 0.  ],\n",
              "       [0.  , 0.88, 0.12, ..., 0.  , 0.  , 0.  ],\n",
              "       ...,\n",
              "       [0.  , 0.  , 0.  , ..., 0.12, 0.  , 0.  ],\n",
              "       [0.  , 0.  , 0.  , ..., 0.88, 0.12, 0.  ],\n",
              "       [0.  , 0.  , 0.  , ..., 0.  , 0.88, 0.12]])"
            ]
          },
          "metadata": {},
          "execution_count": 35
        }
      ]
    },
    {
      "cell_type": "markdown",
      "source": [
        "### 4) Boundary Conditions"
      ],
      "metadata": {
        "id": "MBChqCpjXLED"
      }
    },
    {
      "cell_type": "code",
      "source": [
        "# APPLY DIRICHLET BOUNDARY\n",
        "M[0,0] = 1 # Left Boundary\n",
        "M[-1,-1] = 1 #Right Boundary\n",
        "M[-1,-2] = 0\n",
        "M"
      ],
      "metadata": {
        "colab": {
          "base_uri": "https://localhost:8080/"
        },
        "id": "4X7pM5B9XSid",
        "outputId": "18d9d77e-9320-45a2-8f9f-a83d62c291dc"
      },
      "execution_count": null,
      "outputs": [
        {
          "output_type": "execute_result",
          "data": {
            "text/plain": [
              "array([[1.  , 0.  , 0.  , ..., 0.  , 0.  , 0.  ],\n",
              "       [0.88, 0.12, 0.  , ..., 0.  , 0.  , 0.  ],\n",
              "       [0.  , 0.88, 0.12, ..., 0.  , 0.  , 0.  ],\n",
              "       ...,\n",
              "       [0.  , 0.  , 0.  , ..., 0.12, 0.  , 0.  ],\n",
              "       [0.  , 0.  , 0.  , ..., 0.88, 0.12, 0.  ],\n",
              "       [0.  , 0.  , 0.  , ..., 0.  , 0.  , 1.  ]])"
            ]
          },
          "metadata": {},
          "execution_count": 36
        }
      ]
    },
    {
      "cell_type": "markdown",
      "source": [
        "### 5) Create functions"
      ],
      "metadata": {
        "id": "c3hLfDk7z0LE"
      }
    },
    {
      "cell_type": "code",
      "source": [
        "# FUNCTION FOR STRAIN RATE\n",
        "def epsilon_zz(Hg_vec, tau, L):\n",
        "  eps_vals = []\n",
        "  for Hg in Hg_vec:\n",
        "    eps = -((1/(2*B))**3)*(((ro_i*g*Hg)/2)*(1-(ro_i/ro_w))-((3*tau*L)/(2*wg)))**3\n",
        "    eps_vals += [eps]\n",
        "  eps_vals_array = np.array(eps_vals)\n",
        "  return eps_vals_array\n",
        "\n",
        "# FUNCTION FOR HG (MAY CUT)\n",
        "def Hg_func(Hg_vec, Hgnew_vec, eps_vals_array, tau, L):\n",
        "  new_Hg = []\n",
        "  for i in np.arange(len(Hg_vec)):\n",
        "    Hg_val = Ag - Vg*Hgnew_vec[i] + Hg_vec[i]*eps_vals_array[i]\n",
        "    new_Hg += [Hg_val]\n",
        "  new_Hg_array = np.array(new_Hg)\n",
        "  return new_Hg_array\n",
        "\n"
      ],
      "metadata": {
        "id": "txY_JkYCHyz8"
      },
      "execution_count": null,
      "outputs": []
    },
    {
      "cell_type": "markdown",
      "source": [
        "### 6) Solve"
      ],
      "metadata": {
        "id": "f-NsTM3kbxAC"
      }
    },
    {
      "cell_type": "code",
      "source": [
        "# TESTING\n",
        "eps_vals = -0.1589*np.ones(1000)"
      ],
      "metadata": {
        "id": "sClM_xyGv5iN"
      },
      "execution_count": null,
      "outputs": []
    },
    {
      "cell_type": "code",
      "source": [
        "counter = 1\n",
        "for i in np.arange(999):\n",
        "  Hg_new = np.matmul(M,Hg.transpose())\n",
        "  #eps_vals = epsilon_zz(Hg,tau1,L1)\n",
        "  Hg_newer = Ag_vec + Hg_new + Hg*eps_vals\n",
        "  Hg_all[:,counter] = Hg_newer.transpose()\n",
        "  Hg = Hg_newer\n",
        "  counter += 1"
      ],
      "metadata": {
        "id": "kqweaJ0urCru"
      },
      "execution_count": null,
      "outputs": []
    },
    {
      "cell_type": "code",
      "source": [
        "x_domain = np.linspace(xi,xf,nx)\n",
        "ts = np.linspace(tf,ti,nt)\n",
        "\n",
        "#plt.plot(times, x_domain, Hg_all)\n",
        "plt.plot(x_domain, Hg_all[:,0])\n",
        "plt.plot(x_domain, Hg_all[:,50])\n",
        "plt.plot(x_domain, Hg_all[:,500])\n",
        "#plt.plot(x_domain, Hg_all[:,999])\n",
        "\n",
        "#plt.plot(x_domain, Hg_all[500,:])\n",
        "#plt.plot(x_domain, Hg_all[999,:])\n",
        "\n",
        "\n",
        "\n",
        "plt.xlabel('Xg [meters]')\n",
        "plt.ylabel('Thickness [m]')\n",
        "plt.title('Glacier Thickness Over Time, tau = 62000 N/m^2, L = 0')\n",
        "plt.legend(['0','50','500'])#,'999'])\n",
        "#print(Hg_all[500,:])"
      ],
      "metadata": {
        "colab": {
          "base_uri": "https://localhost:8080/",
          "height": 490
        },
        "id": "3nDYSVy6tgSK",
        "outputId": "a72171e5-7113-42b7-b068-3e57982e9b3d"
      },
      "execution_count": null,
      "outputs": [
        {
          "output_type": "execute_result",
          "data": {
            "text/plain": [
              "<matplotlib.legend.Legend at 0x7db7d53dbf10>"
            ]
          },
          "metadata": {},
          "execution_count": 40
        },
        {
          "output_type": "display_data",
          "data": {
            "text/plain": [
              "<Figure size 640x480 with 1 Axes>"
            ],
            "image/png": "[encoded data removed]"
          },
          "metadata": {}
        }
      ]
    },
    {
      "cell_type": "code",
      "source": [
        "print(nx)"
      ],
      "metadata": {
        "colab": {
          "base_uri": "https://localhost:8080/"
        },
        "id": "Vz4SjMejubYZ",
        "outputId": "b8a8bb81-d4c4-4f34-aa44-bce8a847eab7"
      },
      "execution_count": null,
      "outputs": [
        {
          "output_type": "stream",
          "name": "stdout",
          "text": [
            "1000\n"
          ]
        }
      ]
    },
    {
      "cell_type": "code",
      "source": [
        "plt.plot(x_domain, Hg_all[:,50])"
      ],
      "metadata": {
        "id": "68R3PbLRubbR",
        "colab": {
          "base_uri": "https://localhost:8080/",
          "height": 466
        },
        "outputId": "33b6d383-20de-4880-911e-9d4b6da9735f"
      },
      "execution_count": null,
      "outputs": [
        {
          "output_type": "execute_result",
          "data": {
            "text/plain": [
              "[<matplotlib.lines.Line2D at 0x7db7d561cd00>]"
            ]
          },
          "metadata": {},
          "execution_count": 27
        },
        {
          "output_type": "display_data",
          "data": {
            "text/plain": [
              "<Figure size 640x480 with 1 Axes>"
            ],
            "image/png": "[encoded data removed]"
          },
          "metadata": {}
        }
      ]
    },
    {
      "cell_type": "code",
      "source": [
        "plt.plot(x_domain, Hg_all[:,500])"
      ],
      "metadata": {
        "id": "MUvHABC-ubdm",
        "colab": {
          "base_uri": "https://localhost:8080/",
          "height": 466
        },
        "outputId": "9dbbcdd1-2cdd-48e3-8779-a220d36a0282"
      },
      "execution_count": null,
      "outputs": [
        {
          "output_type": "execute_result",
          "data": {
            "text/plain": [
              "[<matplotlib.lines.Line2D at 0x7db7e87e2d70>]"
            ]
          },
          "metadata": {},
          "execution_count": 12
        },
        {
          "output_type": "display_data",
          "data": {
            "text/plain": [
              "<Figure size 640x480 with 1 Axes>"
            ],
            "image/png": "[encoded data removed]"
          },
          "metadata": {}
        }
      ]
    },
    {
      "cell_type": "code",
      "source": [],
      "metadata": {
        "id": "EjMmIFJHubfs"
      },
      "execution_count": null,
      "outputs": []
    },
    {
      "cell_type": "code",
      "source": [],
      "metadata": {
        "id": "rU2PbpQBubhx"
      },
      "execution_count": null,
      "outputs": []
    },
    {
      "cell_type": "markdown",
      "source": [
        "# Results"
      ],
      "metadata": {
        "id": "eedeiJZGzk9d"
      }
    },
    {
      "cell_type": "markdown",
      "source": [
        "# Figures\n",
        "###Figure 1\n",
        "#####Rate of Thickening WRT Time (Effective Stress = 0.065 N/m^2)\n",
        "\n",
        "###Figure 2\n",
        "#####Rate of Thickening WRT Time (Effective Stress = 0.062 N/m^2)\n",
        "\n",
        "###Figure 3\n",
        "#####Rate of Thickening WRT Time (No Ice Shelf)\n",
        "#####16,000 years BP to Present\n",
        "\n",
        "###Figure 4\n",
        "#####Rate of Thickening WRT (No Ice Shelf)\n",
        "#####Present - 16,000 years AP"
      ],
      "metadata": {
        "id": "uNukdJjq0B3N"
      }
    },
    {
      "cell_type": "code",
      "source": [
        "pyplot.plot(time, retreat_diff, label=\"Retreat Distance\")\n",
        "pyplot.xlabel(\"Time (years B.P.)\")\n",
        "pyplot.ylabel(\"Retreat Distance (km)\")\n",
        "pyplot.title(\"Grounding Line Rate of Retreat\")"
      ],
      "metadata": {
        "id": "H68AQXXTzlEu",
        "colab": {
          "base_uri": "https://localhost:8080/",
          "height": 198
        },
        "outputId": "391c20b3-a9db-4351-841d-16207692c22e"
      },
      "execution_count": null,
      "outputs": [
        {
          "output_type": "error",
          "ename": "NameError",
          "evalue": "name 'pyplot' is not defined",
          "traceback": [
            "\u001b[0;31m---------------------------------------------------------------------------\u001b[0m",
            "\u001b[0;31mNameError\u001b[0m                                 Traceback (most recent call last)",
            "\u001b[0;32m<ipython-input-11-c16227759784>\u001b[0m in \u001b[0;36m<cell line: 1>\u001b[0;34m()\u001b[0m\n\u001b[0;32m----> 1\u001b[0;31m \u001b[0mpyplot\u001b[0m\u001b[0;34m.\u001b[0m\u001b[0mplot\u001b[0m\u001b[0;34m(\u001b[0m\u001b[0mtime\u001b[0m\u001b[0;34m,\u001b[0m \u001b[0mretreat_diff\u001b[0m\u001b[0;34m,\u001b[0m \u001b[0mlabel\u001b[0m\u001b[0;34m=\u001b[0m\u001b[0;34m\"Retreat Distance\"\u001b[0m\u001b[0;34m)\u001b[0m\u001b[0;34m\u001b[0m\u001b[0;34m\u001b[0m\u001b[0m\n\u001b[0m\u001b[1;32m      2\u001b[0m \u001b[0mpyplot\u001b[0m\u001b[0;34m.\u001b[0m\u001b[0mxlabel\u001b[0m\u001b[0;34m(\u001b[0m\u001b[0;34m\"Time (years B.P.)\"\u001b[0m\u001b[0;34m)\u001b[0m\u001b[0;34m\u001b[0m\u001b[0;34m\u001b[0m\u001b[0m\n\u001b[1;32m      3\u001b[0m \u001b[0mpyplot\u001b[0m\u001b[0;34m.\u001b[0m\u001b[0mylabel\u001b[0m\u001b[0;34m(\u001b[0m\u001b[0;34m\"Retreat Distance (km)\"\u001b[0m\u001b[0;34m)\u001b[0m\u001b[0;34m\u001b[0m\u001b[0;34m\u001b[0m\u001b[0m\n\u001b[1;32m      4\u001b[0m \u001b[0mpyplot\u001b[0m\u001b[0;34m.\u001b[0m\u001b[0mtitle\u001b[0m\u001b[0;34m(\u001b[0m\u001b[0;34m\"Grounding Line Rate of Retreat\"\u001b[0m\u001b[0;34m)\u001b[0m\u001b[0;34m\u001b[0m\u001b[0;34m\u001b[0m\u001b[0m\n",
            "\u001b[0;31mNameError\u001b[0m: name 'pyplot' is not defined"
          ]
        }
      ]
    },
    {
      "cell_type": "markdown",
      "source": [
        "# References\n",
        "\n",
        "Beget, J. (1987). Low Profile of the Northwest Laurentide Ice Sheet. Arctic and Alpine Research, 19(1), 81–88. https://doi.org/10.2307/1551003.\n",
        "\n",
        "Lingle, C.S., & Clark, J.A. A numerical model of interactions between a marine ice sheet and the solid earth: Application to a West Antarctic ice stream. Journal of Geophysical Research: Oceans. Vol 90, Iss C1 (1985). https://doi.org/10.1029/JC090iC01p01100.\n",
        "\n",
        "Paxman, G.J.G., Austermann, J. & Hollyday, A. Total isostatic response to the complete unloading of the Greenland and Antarctic Ice Sheets. Sci Rep 12, 11399 (2022). https://doi.org/10.1038/s41598-022-15440-y.\n",
        "\n",
        "Whitehouse, P.L., Gomez, N., King, M.A. et al. Solid Earth change and the evolution of the Antarctic Ice Sheet. Nat Commun 10, 503 (2019). https://doi.org/10.1038/s41467-018-08068-y.\n",
        "\n"
      ],
      "metadata": {
        "id": "FjBQ17OUpSC0"
      }
    },
    {
      "cell_type": "code",
      "source": [
        "\n",
        "\n",
        "ti = 0 # years\n",
        "tf = 2200 # years\n",
        "nt = 1000\n",
        "dt = tf/nt # decrease dt\n",
        "print(dt)\n",
        "\n",
        "x_domain = np.linspace(xi,xf,nx)\n",
        "ts = np.linspace(ti,tf,nt)\n",
        "\n",
        "#plt.plot(times, x_domain, Hg_all)\n",
        "plt.plot(x_domain, Hg_all[:,0])"
      ],
      "metadata": {
        "id": "QGmbzYQSp5Kj",
        "colab": {
          "base_uri": "https://localhost:8080/",
          "height": 484
        },
        "outputId": "0287faef-edd0-4901-99e9-fa14ee6dbde8"
      },
      "execution_count": null,
      "outputs": [
        {
          "output_type": "stream",
          "name": "stdout",
          "text": [
            "2.2\n"
          ]
        },
        {
          "output_type": "execute_result",
          "data": {
            "text/plain": [
              "[<matplotlib.lines.Line2D at 0x7db8035edb40>]"
            ]
          },
          "metadata": {},
          "execution_count": 16
        },
        {
          "output_type": "display_data",
          "data": {
            "text/plain": [
              "<Figure size 640x480 with 1 Axes>"
            ],
            "image/png": "[encoded data removed]"
          },
          "metadata": {}
        }
      ]
    }
  ],
  "metadata": {
    "kernelspec": {
      "display_name": "EAS4821",
      "language": "python",
      "name": "eas4821"
    },
    "language_info": {
      "codemirror_mode": {
        "name": "ipython",
        "version": 3
      },
      "file_extension": ".py",
      "mimetype": "text/x-python",
      "name": "python",
      "nbconvert_exporter": "python",
      "pygments_lexer": "ipython3",
      "version": "3.11.7"
    },
    "colab": {
      "provenance": []
    }
  },
  "nbformat": 4,
  "nbformat_minor": 0
}